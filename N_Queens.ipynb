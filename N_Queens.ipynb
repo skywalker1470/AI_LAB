{
 "cells": [
  {
   "cell_type": "code",
   "execution_count": 20,
   "id": "ec3b622a",
   "metadata": {},
   "outputs": [
    {
     "name": "stdout",
     "output_type": "stream",
     "text": [
      "Q . . . . . . . . .\n",
      ". . Q . . . . . . .\n",
      ". . . . . Q . . . .\n",
      ". . . . . . . Q . .\n",
      ". . . . . . . . . Q\n",
      ". . . . Q . . . . .\n",
      ". . . . . . . . Q .\n",
      ". Q . . . . . . . .\n",
      ". . . Q . . . . . .\n",
      ". . . . . . Q . . .\n"
     ]
    }
   ],
   "source": [
    "def is_safe(row , col , board):\n",
    "    for prev_row in range(row):\n",
    "        prev_col = board[prev_row]\n",
    "        if(prev_col == col or abs(row-prev_row) == abs(col - prev_col)):\n",
    "            return False\n",
    "    return True\n",
    "def solve_n_queens(board , row , N):\n",
    "    \n",
    "    if(N==row):\n",
    "        for r in range(len(board)):\n",
    "            line = [\".\"] * N\n",
    "            line[board[r]] = 'Q'\n",
    "            print(' '.join(line))\n",
    "        return True\n",
    "    for col in range(N):\n",
    "        if(is_safe(row , col , board)):\n",
    "            board[row] = col\n",
    "            if(solve_n_queens(board , row + 1 , N )):\n",
    "                return True\n",
    "    return False\n",
    "            \n",
    "N = 10\n",
    "board = [-1]* N \n",
    "if not solve_n_queens(board , 0 , N):\n",
    "    print(\"No solution exists!\")"
   ]
  },
  {
   "cell_type": "code",
   "execution_count": null,
   "id": "185e791a",
   "metadata": {},
   "outputs": [
    {
     "name": "stdout",
     "output_type": "stream",
     "text": [
      "Q . . . . . . . . .\n"
     ]
    }
   ],
   "source": [
    "def is_safe_prac(col , row , board):\n",
    "    for prev_row in range(row):\n",
    "        prev_col = board[prev_row]\n",
    "        if(prev_col == col or abs(row-prev_row)==abs(col-prev_col)):\n",
    "            return False\n",
    "    return True\n",
    "def solve(board, row , N):\n",
    "    if(row==N):\n",
    "        for r in range(N):\n",
    "            line = [\".\"]*N\n",
    "            line[board[r]] = \"Q\"\n",
    "            print(' '.join(line))\n",
    "        return True\n",
    "    for col in range(N):\n",
    "        if(is_safe_prac(col,row,board)):\n",
    "            board[row] = col\n",
    "            if(solve(board , row + 1 , N)):\n",
    "                return True\n",
    "    return False\n",
    "N = 10 \n",
    "board = [-1] * N \n",
    "if not solve(board , 0 , N):\n",
    "    print('no sol')"
   ]
  }
 ],
 "metadata": {
  "kernelspec": {
   "display_name": "Python 3",
   "language": "python",
   "name": "python3"
  },
  "language_info": {
   "codemirror_mode": {
    "name": "ipython",
    "version": 3
   },
   "file_extension": ".py",
   "mimetype": "text/x-python",
   "name": "python",
   "nbconvert_exporter": "python",
   "pygments_lexer": "ipython3",
   "version": "3.13.2"
  }
 },
 "nbformat": 4,
 "nbformat_minor": 5
}
